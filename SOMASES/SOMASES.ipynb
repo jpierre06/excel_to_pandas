{
 "cells": [
  {
   "cell_type": "code",
   "execution_count": 1,
   "id": "a13c1036",
   "metadata": {},
   "outputs": [],
   "source": [
    "import pandas as pd"
   ]
  },
  {
   "cell_type": "code",
   "execution_count": null,
   "id": "bc1540d1",
   "metadata": {},
   "outputs": [],
   "source": []
  },
  {
   "cell_type": "markdown",
   "id": "9d3ae0c6",
   "metadata": {},
   "source": [
    "### Importar dados do PIB"
   ]
  },
  {
   "cell_type": "code",
   "execution_count": 2,
   "id": "ee2228fe",
   "metadata": {},
   "outputs": [],
   "source": [
    "pib = pd.read_excel('../arquivos/Arquivo_02_pd.xlsx', sheet_name = 'PIB')"
   ]
  },
  {
   "cell_type": "markdown",
   "id": "8cb1102d",
   "metadata": {},
   "source": [
    "### Visualisar tabela PIB"
   ]
  },
  {
   "cell_type": "code",
   "execution_count": 3,
   "id": "95456533",
   "metadata": {},
   "outputs": [
    {
     "data": {
      "text/html": [
       "<div>\n",
       "<style scoped>\n",
       "    .dataframe tbody tr th:only-of-type {\n",
       "        vertical-align: middle;\n",
       "    }\n",
       "\n",
       "    .dataframe tbody tr th {\n",
       "        vertical-align: top;\n",
       "    }\n",
       "\n",
       "    .dataframe thead th {\n",
       "        text-align: right;\n",
       "    }\n",
       "</style>\n",
       "<table border=\"1\" class=\"dataframe\">\n",
       "  <thead>\n",
       "    <tr style=\"text-align: right;\">\n",
       "      <th></th>\n",
       "      <th>id_Estado</th>\n",
       "      <th>sigla_Estado</th>\n",
       "      <th>ano_PIB</th>\n",
       "      <th>ano_Referencia</th>\n",
       "      <th>valor_Bruto_Agropecuaria</th>\n",
       "      <th>valor_Bruto_Industria</th>\n",
       "      <th>valor_Bruto_Servicos</th>\n",
       "      <th>valor_Bruto_Administracao_Publica</th>\n",
       "      <th>valor_Bruto_Total</th>\n",
       "      <th>valor_Impostos_Liquido</th>\n",
       "      <th>valor_PIB</th>\n",
       "      <th>valor_PIB_percapita</th>\n",
       "      <th>populacao_Projetada</th>\n",
       "      <th>quant_Municipios</th>\n",
       "    </tr>\n",
       "  </thead>\n",
       "  <tbody>\n",
       "    <tr>\n",
       "      <th>0</th>\n",
       "      <td>11</td>\n",
       "      <td>RO</td>\n",
       "      <td>2017</td>\n",
       "      <td>2018</td>\n",
       "      <td>5876784259</td>\n",
       "      <td>8193983928</td>\n",
       "      <td>14450296420</td>\n",
       "      <td>10759983506</td>\n",
       "      <td>39281048108</td>\n",
       "      <td>4235099382</td>\n",
       "      <td>43516147492</td>\n",
       "      <td>24098</td>\n",
       "      <td>1805788</td>\n",
       "      <td>52</td>\n",
       "    </tr>\n",
       "    <tr>\n",
       "      <th>1</th>\n",
       "      <td>12</td>\n",
       "      <td>AC</td>\n",
       "      <td>2017</td>\n",
       "      <td>2018</td>\n",
       "      <td>1342187256</td>\n",
       "      <td>1023095600</td>\n",
       "      <td>5280288945</td>\n",
       "      <td>5190092126</td>\n",
       "      <td>12835663924</td>\n",
       "      <td>1437276669</td>\n",
       "      <td>14272940594</td>\n",
       "      <td>17204</td>\n",
       "      <td>829619</td>\n",
       "      <td>22</td>\n",
       "    </tr>\n",
       "    <tr>\n",
       "      <th>2</th>\n",
       "      <td>13</td>\n",
       "      <td>AM</td>\n",
       "      <td>2017</td>\n",
       "      <td>2018</td>\n",
       "      <td>5604035132</td>\n",
       "      <td>26055812058</td>\n",
       "      <td>30512813336</td>\n",
       "      <td>16324806476</td>\n",
       "      <td>78497467001</td>\n",
       "      <td>14742723917</td>\n",
       "      <td>93240190919</td>\n",
       "      <td>22945</td>\n",
       "      <td>4063614</td>\n",
       "      <td>62</td>\n",
       "    </tr>\n",
       "    <tr>\n",
       "      <th>3</th>\n",
       "      <td>14</td>\n",
       "      <td>RR</td>\n",
       "      <td>2017</td>\n",
       "      <td>2018</td>\n",
       "      <td>609139184</td>\n",
       "      <td>960504989</td>\n",
       "      <td>4081352099</td>\n",
       "      <td>5531834638</td>\n",
       "      <td>11182830907</td>\n",
       "      <td>921878239</td>\n",
       "      <td>12104709147</td>\n",
       "      <td>23161</td>\n",
       "      <td>522636</td>\n",
       "      <td>15</td>\n",
       "    </tr>\n",
       "    <tr>\n",
       "      <th>4</th>\n",
       "      <td>15</td>\n",
       "      <td>PA</td>\n",
       "      <td>2017</td>\n",
       "      <td>2018</td>\n",
       "      <td>16743181599</td>\n",
       "      <td>43802183118</td>\n",
       "      <td>50120765866</td>\n",
       "      <td>30982907497</td>\n",
       "      <td>141649038089</td>\n",
       "      <td>13583365709</td>\n",
       "      <td>155232403793</td>\n",
       "      <td>18554</td>\n",
       "      <td>8366628</td>\n",
       "      <td>144</td>\n",
       "    </tr>\n",
       "  </tbody>\n",
       "</table>\n",
       "</div>"
      ],
      "text/plain": [
       "   id_Estado sigla_Estado  ano_PIB  ano_Referencia  valor_Bruto_Agropecuaria  \\\n",
       "0         11           RO     2017            2018                5876784259   \n",
       "1         12           AC     2017            2018                1342187256   \n",
       "2         13           AM     2017            2018                5604035132   \n",
       "3         14           RR     2017            2018                 609139184   \n",
       "4         15           PA     2017            2018               16743181599   \n",
       "\n",
       "   valor_Bruto_Industria  valor_Bruto_Servicos  \\\n",
       "0             8193983928           14450296420   \n",
       "1             1023095600            5280288945   \n",
       "2            26055812058           30512813336   \n",
       "3              960504989            4081352099   \n",
       "4            43802183118           50120765866   \n",
       "\n",
       "   valor_Bruto_Administracao_Publica  valor_Bruto_Total  \\\n",
       "0                        10759983506        39281048108   \n",
       "1                         5190092126        12835663924   \n",
       "2                        16324806476        78497467001   \n",
       "3                         5531834638        11182830907   \n",
       "4                        30982907497       141649038089   \n",
       "\n",
       "   valor_Impostos_Liquido     valor_PIB  valor_PIB_percapita  \\\n",
       "0              4235099382   43516147492                24098   \n",
       "1              1437276669   14272940594                17204   \n",
       "2             14742723917   93240190919                22945   \n",
       "3               921878239   12104709147                23161   \n",
       "4             13583365709  155232403793                18554   \n",
       "\n",
       "   populacao_Projetada  quant_Municipios  \n",
       "0              1805788                52  \n",
       "1               829619                22  \n",
       "2              4063614                62  \n",
       "3               522636                15  \n",
       "4              8366628               144  "
      ]
     },
     "execution_count": 3,
     "metadata": {},
     "output_type": "execute_result"
    }
   ],
   "source": [
    "pib.head()"
   ]
  },
  {
   "cell_type": "code",
   "execution_count": null,
   "id": "bc869d1c",
   "metadata": {},
   "outputs": [],
   "source": []
  },
  {
   "cell_type": "markdown",
   "id": "4afb2ad3",
   "metadata": {},
   "source": [
    "### Realizar comando análogo função SOMASES"
   ]
  },
  {
   "cell_type": "markdown",
   "id": "8a310746",
   "metadata": {},
   "source": [
    "#### Resumo por estados"
   ]
  },
  {
   "cell_type": "code",
   "execution_count": 4,
   "id": "27eee143",
   "metadata": {},
   "outputs": [],
   "source": [
    "resumo_estado = pib.groupby([\n",
    "    'sigla_Estado'\n",
    "]).agg({\n",
    "    'valor_PIB' : 'sum'\n",
    "}).reset_index()"
   ]
  },
  {
   "cell_type": "code",
   "execution_count": 5,
   "id": "b6de6fab",
   "metadata": {},
   "outputs": [
    {
     "data": {
      "text/html": [
       "<div>\n",
       "<style scoped>\n",
       "    .dataframe tbody tr th:only-of-type {\n",
       "        vertical-align: middle;\n",
       "    }\n",
       "\n",
       "    .dataframe tbody tr th {\n",
       "        vertical-align: top;\n",
       "    }\n",
       "\n",
       "    .dataframe thead th {\n",
       "        text-align: right;\n",
       "    }\n",
       "</style>\n",
       "<table border=\"1\" class=\"dataframe\">\n",
       "  <thead>\n",
       "    <tr style=\"text-align: right;\">\n",
       "      <th></th>\n",
       "      <th>sigla_Estado</th>\n",
       "      <th>valor_PIB</th>\n",
       "    </tr>\n",
       "  </thead>\n",
       "  <tbody>\n",
       "    <tr>\n",
       "      <th>0</th>\n",
       "      <td>AC</td>\n",
       "      <td>29604063183</td>\n",
       "    </tr>\n",
       "    <tr>\n",
       "      <th>1</th>\n",
       "      <td>AL</td>\n",
       "      <td>107264113594</td>\n",
       "    </tr>\n",
       "    <tr>\n",
       "      <th>2</th>\n",
       "      <td>AM</td>\n",
       "      <td>193349425986</td>\n",
       "    </tr>\n",
       "    <tr>\n",
       "      <th>3</th>\n",
       "      <td>AP</td>\n",
       "      <td>32277114993</td>\n",
       "    </tr>\n",
       "    <tr>\n",
       "      <th>4</th>\n",
       "      <td>BA</td>\n",
       "      <td>554963631349</td>\n",
       "    </tr>\n",
       "  </tbody>\n",
       "</table>\n",
       "</div>"
      ],
      "text/plain": [
       "  sigla_Estado     valor_PIB\n",
       "0           AC   29604063183\n",
       "1           AL  107264113594\n",
       "2           AM  193349425986\n",
       "3           AP   32277114993\n",
       "4           BA  554963631349"
      ]
     },
     "execution_count": 5,
     "metadata": {},
     "output_type": "execute_result"
    }
   ],
   "source": [
    "resumo_estado.head()"
   ]
  },
  {
   "cell_type": "code",
   "execution_count": null,
   "id": "85ba7735",
   "metadata": {},
   "outputs": [],
   "source": []
  },
  {
   "cell_type": "markdown",
   "id": "9adb6423",
   "metadata": {},
   "source": [
    "#### Resumo por ano"
   ]
  },
  {
   "cell_type": "code",
   "execution_count": 6,
   "id": "2283e265",
   "metadata": {},
   "outputs": [],
   "source": [
    "resumo_ano = pib.groupby([\n",
    "    'ano_PIB'\n",
    "]).agg({\n",
    "    'valor_PIB' : 'sum'\n",
    "}).reset_index()"
   ]
  },
  {
   "cell_type": "code",
   "execution_count": 7,
   "id": "1a296bf0",
   "metadata": {},
   "outputs": [
    {
     "data": {
      "text/html": [
       "<div>\n",
       "<style scoped>\n",
       "    .dataframe tbody tr th:only-of-type {\n",
       "        vertical-align: middle;\n",
       "    }\n",
       "\n",
       "    .dataframe tbody tr th {\n",
       "        vertical-align: top;\n",
       "    }\n",
       "\n",
       "    .dataframe thead th {\n",
       "        text-align: right;\n",
       "    }\n",
       "</style>\n",
       "<table border=\"1\" class=\"dataframe\">\n",
       "  <thead>\n",
       "    <tr style=\"text-align: right;\">\n",
       "      <th></th>\n",
       "      <th>ano_PIB</th>\n",
       "      <th>valor_PIB</th>\n",
       "    </tr>\n",
       "  </thead>\n",
       "  <tbody>\n",
       "    <tr>\n",
       "      <th>0</th>\n",
       "      <td>2017</td>\n",
       "      <td>6585479000016</td>\n",
       "    </tr>\n",
       "    <tr>\n",
       "      <th>1</th>\n",
       "      <td>2018</td>\n",
       "      <td>7004140999992</td>\n",
       "    </tr>\n",
       "  </tbody>\n",
       "</table>\n",
       "</div>"
      ],
      "text/plain": [
       "   ano_PIB      valor_PIB\n",
       "0     2017  6585479000016\n",
       "1     2018  7004140999992"
      ]
     },
     "execution_count": 7,
     "metadata": {},
     "output_type": "execute_result"
    }
   ],
   "source": [
    "resumo_ano.head()"
   ]
  },
  {
   "cell_type": "code",
   "execution_count": null,
   "id": "3734e3d4",
   "metadata": {},
   "outputs": [],
   "source": []
  }
 ],
 "metadata": {
  "kernelspec": {
   "display_name": "Python 3",
   "language": "python",
   "name": "python3"
  },
  "language_info": {
   "codemirror_mode": {
    "name": "ipython",
    "version": 3
   },
   "file_extension": ".py",
   "mimetype": "text/x-python",
   "name": "python",
   "nbconvert_exporter": "python",
   "pygments_lexer": "ipython3",
   "version": "3.7.3"
  }
 },
 "nbformat": 4,
 "nbformat_minor": 5
}
