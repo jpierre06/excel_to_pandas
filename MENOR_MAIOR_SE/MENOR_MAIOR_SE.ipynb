{
 "cells": [
  {
   "cell_type": "code",
   "execution_count": 1,
   "id": "aeb86aeb",
   "metadata": {},
   "outputs": [],
   "source": [
    "import pandas as pd"
   ]
  },
  {
   "cell_type": "code",
   "execution_count": null,
   "id": "425cc1c5",
   "metadata": {},
   "outputs": [],
   "source": []
  },
  {
   "cell_type": "markdown",
   "id": "bf36d001",
   "metadata": {},
   "source": [
    "### Importar dados do PIB"
   ]
  },
  {
   "cell_type": "code",
   "execution_count": 2,
   "id": "bf518c2c",
   "metadata": {},
   "outputs": [],
   "source": [
    "pib = pd.read_excel('../arquivos/Arquivo_03_pd.xlsx', sheet_name = 'PIB')"
   ]
  },
  {
   "cell_type": "markdown",
   "id": "55a8c3d1",
   "metadata": {},
   "source": [
    "### Visualisar tabela PIB"
   ]
  },
  {
   "cell_type": "code",
   "execution_count": 3,
   "id": "3953baa5",
   "metadata": {},
   "outputs": [
    {
     "data": {
      "text/html": [
       "<div>\n",
       "<style scoped>\n",
       "    .dataframe tbody tr th:only-of-type {\n",
       "        vertical-align: middle;\n",
       "    }\n",
       "\n",
       "    .dataframe tbody tr th {\n",
       "        vertical-align: top;\n",
       "    }\n",
       "\n",
       "    .dataframe thead th {\n",
       "        text-align: right;\n",
       "    }\n",
       "</style>\n",
       "<table border=\"1\" class=\"dataframe\">\n",
       "  <thead>\n",
       "    <tr style=\"text-align: right;\">\n",
       "      <th></th>\n",
       "      <th>id_Estado</th>\n",
       "      <th>sigla_Regiao</th>\n",
       "      <th>sigla_Estado</th>\n",
       "      <th>ano_PIB</th>\n",
       "      <th>ano_Referencia</th>\n",
       "      <th>valor_Bruto_Agropecuaria</th>\n",
       "      <th>valor_Bruto_Industria</th>\n",
       "      <th>valor_Bruto_Servicos</th>\n",
       "      <th>valor_Bruto_Administracao_Publica</th>\n",
       "      <th>valor_Bruto_Total</th>\n",
       "      <th>valor_Impostos_Liquido</th>\n",
       "      <th>valor_PIB</th>\n",
       "      <th>valor_PIB_percapita</th>\n",
       "      <th>populacao_Projetada</th>\n",
       "      <th>quant_Municipios</th>\n",
       "    </tr>\n",
       "  </thead>\n",
       "  <tbody>\n",
       "    <tr>\n",
       "      <th>0</th>\n",
       "      <td>50</td>\n",
       "      <td>CO</td>\n",
       "      <td>MS</td>\n",
       "      <td>2010</td>\n",
       "      <td>2018</td>\n",
       "      <td>7151612325</td>\n",
       "      <td>9380762956</td>\n",
       "      <td>1.677730e+10</td>\n",
       "      <td>8186336355</td>\n",
       "      <td>41496012552</td>\n",
       "      <td>5774643847</td>\n",
       "      <td>47270656394</td>\n",
       "      <td>19299</td>\n",
       "      <td>2449341</td>\n",
       "      <td>78</td>\n",
       "    </tr>\n",
       "    <tr>\n",
       "      <th>1</th>\n",
       "      <td>51</td>\n",
       "      <td>CO</td>\n",
       "      <td>MT</td>\n",
       "      <td>2010</td>\n",
       "      <td>2018</td>\n",
       "      <td>8373222532</td>\n",
       "      <td>9770833413</td>\n",
       "      <td>2.257562e+10</td>\n",
       "      <td>9054873855</td>\n",
       "      <td>49774547612</td>\n",
       "      <td>6826407756</td>\n",
       "      <td>56600955373</td>\n",
       "      <td>18656</td>\n",
       "      <td>3033991</td>\n",
       "      <td>141</td>\n",
       "    </tr>\n",
       "    <tr>\n",
       "      <th>2</th>\n",
       "      <td>52</td>\n",
       "      <td>CO</td>\n",
       "      <td>GO</td>\n",
       "      <td>2010</td>\n",
       "      <td>2018</td>\n",
       "      <td>10376549294</td>\n",
       "      <td>26426091169</td>\n",
       "      <td>4.211731e+10</td>\n",
       "      <td>14326052903</td>\n",
       "      <td>93245999720</td>\n",
       "      <td>13524109748</td>\n",
       "      <td>106770109478</td>\n",
       "      <td>17783</td>\n",
       "      <td>6004045</td>\n",
       "      <td>246</td>\n",
       "    </tr>\n",
       "    <tr>\n",
       "      <th>3</th>\n",
       "      <td>53</td>\n",
       "      <td>CO</td>\n",
       "      <td>DF</td>\n",
       "      <td>2010</td>\n",
       "      <td>2018</td>\n",
       "      <td>327804575</td>\n",
       "      <td>9184148921</td>\n",
       "      <td>5.825956e+10</td>\n",
       "      <td>53848708424</td>\n",
       "      <td>121620222895</td>\n",
       "      <td>22553878700</td>\n",
       "      <td>144174101595</td>\n",
       "      <td>56253</td>\n",
       "      <td>2562963</td>\n",
       "      <td>1</td>\n",
       "    </tr>\n",
       "    <tr>\n",
       "      <th>4</th>\n",
       "      <td>11</td>\n",
       "      <td>N</td>\n",
       "      <td>RO</td>\n",
       "      <td>2010</td>\n",
       "      <td>2018</td>\n",
       "      <td>2295537137</td>\n",
       "      <td>4779253947</td>\n",
       "      <td>8.011724e+09</td>\n",
       "      <td>5870442984</td>\n",
       "      <td>20956957849</td>\n",
       "      <td>2950929036</td>\n",
       "      <td>23907886882</td>\n",
       "      <td>15321</td>\n",
       "      <td>1560501</td>\n",
       "      <td>52</td>\n",
       "    </tr>\n",
       "  </tbody>\n",
       "</table>\n",
       "</div>"
      ],
      "text/plain": [
       "   id_Estado sigla_Regiao sigla_Estado  ano_PIB  ano_Referencia  \\\n",
       "0         50           CO           MS     2010            2018   \n",
       "1         51           CO           MT     2010            2018   \n",
       "2         52           CO           GO     2010            2018   \n",
       "3         53           CO           DF     2010            2018   \n",
       "4         11            N           RO     2010            2018   \n",
       "\n",
       "   valor_Bruto_Agropecuaria  valor_Bruto_Industria  valor_Bruto_Servicos  \\\n",
       "0                7151612325             9380762956          1.677730e+10   \n",
       "1                8373222532             9770833413          2.257562e+10   \n",
       "2               10376549294            26426091169          4.211731e+10   \n",
       "3                 327804575             9184148921          5.825956e+10   \n",
       "4                2295537137             4779253947          8.011724e+09   \n",
       "\n",
       "   valor_Bruto_Administracao_Publica  valor_Bruto_Total  \\\n",
       "0                         8186336355        41496012552   \n",
       "1                         9054873855        49774547612   \n",
       "2                        14326052903        93245999720   \n",
       "3                        53848708424       121620222895   \n",
       "4                         5870442984        20956957849   \n",
       "\n",
       "   valor_Impostos_Liquido     valor_PIB  valor_PIB_percapita  \\\n",
       "0              5774643847   47270656394                19299   \n",
       "1              6826407756   56600955373                18656   \n",
       "2             13524109748  106770109478                17783   \n",
       "3             22553878700  144174101595                56253   \n",
       "4              2950929036   23907886882                15321   \n",
       "\n",
       "   populacao_Projetada  quant_Municipios  \n",
       "0              2449341                78  \n",
       "1              3033991               141  \n",
       "2              6004045               246  \n",
       "3              2562963                 1  \n",
       "4              1560501                52  "
      ]
     },
     "execution_count": 3,
     "metadata": {},
     "output_type": "execute_result"
    }
   ],
   "source": [
    "pib.head()"
   ]
  },
  {
   "cell_type": "code",
   "execution_count": null,
   "id": "de083b1e",
   "metadata": {},
   "outputs": [],
   "source": []
  },
  {
   "cell_type": "markdown",
   "id": "35ebaf9b",
   "metadata": {},
   "source": [
    "### Realizar comando análogo função MENOR + SE"
   ]
  },
  {
   "cell_type": "markdown",
   "id": "383c0ebd",
   "metadata": {},
   "source": [
    "#### Resumo por ano"
   ]
  },
  {
   "cell_type": "code",
   "execution_count": 4,
   "id": "62386bc8",
   "metadata": {},
   "outputs": [],
   "source": [
    "ano_pib = 2018\n",
    "\n",
    "resumo_ano = pib[pib['ano_PIB'] == ano_pib].groupby([\n",
    "    'ano_PIB'\n",
    "]).agg({\n",
    "    'valor_PIB' : [('menor_valor_PIB', 'min'), ('maior_valor_PIB', 'max')]\n",
    "}).reset_index()"
   ]
  },
  {
   "cell_type": "markdown",
   "id": "0260e1cb",
   "metadata": {},
   "source": [
    "#### Unificar nome cabeçalhos"
   ]
  },
  {
   "cell_type": "code",
   "execution_count": 5,
   "id": "bc2a0956",
   "metadata": {},
   "outputs": [],
   "source": [
    "resumo_ano.columns = ['{},{}'.format(x[0], x[1]) for x in resumo_ano.columns]\n",
    "\n",
    "resumo_ano.rename(columns={\n",
    "    resumo_ano.columns[0] : 'ano_PIB'\n",
    "    ,resumo_ano.columns[1] : 'menor_valor_PIB'\n",
    "    ,resumo_ano.columns[2] : 'maior_valor_PIB'\n",
    "}, inplace=True)"
   ]
  },
  {
   "cell_type": "code",
   "execution_count": 6,
   "id": "a9409087",
   "metadata": {},
   "outputs": [
    {
     "data": {
      "text/html": [
       "<div>\n",
       "<style scoped>\n",
       "    .dataframe tbody tr th:only-of-type {\n",
       "        vertical-align: middle;\n",
       "    }\n",
       "\n",
       "    .dataframe tbody tr th {\n",
       "        vertical-align: top;\n",
       "    }\n",
       "\n",
       "    .dataframe thead th {\n",
       "        text-align: right;\n",
       "    }\n",
       "</style>\n",
       "<table border=\"1\" class=\"dataframe\">\n",
       "  <thead>\n",
       "    <tr style=\"text-align: right;\">\n",
       "      <th></th>\n",
       "      <th>ano_PIB</th>\n",
       "      <th>menor_valor_PIB</th>\n",
       "      <th>maior_valor_PIB</th>\n",
       "    </tr>\n",
       "  </thead>\n",
       "  <tbody>\n",
       "    <tr>\n",
       "      <th>0</th>\n",
       "      <td>2018</td>\n",
       "      <td>13369987723</td>\n",
       "      <td>2210561949477</td>\n",
       "    </tr>\n",
       "  </tbody>\n",
       "</table>\n",
       "</div>"
      ],
      "text/plain": [
       "   ano_PIB  menor_valor_PIB  maior_valor_PIB\n",
       "0     2018      13369987723    2210561949477"
      ]
     },
     "execution_count": 6,
     "metadata": {},
     "output_type": "execute_result"
    }
   ],
   "source": [
    "resumo_ano"
   ]
  },
  {
   "cell_type": "code",
   "execution_count": null,
   "id": "2cf86994",
   "metadata": {},
   "outputs": [],
   "source": []
  },
  {
   "cell_type": "markdown",
   "id": "83231ea9",
   "metadata": {},
   "source": [
    "#### Resumo por regiao"
   ]
  },
  {
   "cell_type": "code",
   "execution_count": 7,
   "id": "ebc1767d",
   "metadata": {},
   "outputs": [],
   "source": [
    "ano_pib = 2018\n",
    "\n",
    "resumo_regiao = pib[pib['ano_PIB'] == ano_pib].groupby([\n",
    "    'sigla_Regiao'\n",
    "]).agg({\n",
    "    'valor_PIB' : [('menor_valor_PIB', 'min'), ('maior_valor_PIB', 'max')]\n",
    "}).reset_index()"
   ]
  },
  {
   "cell_type": "markdown",
   "id": "6d5fdaef",
   "metadata": {},
   "source": [
    "#### Unificar nome cabeçalhos"
   ]
  },
  {
   "cell_type": "code",
   "execution_count": 8,
   "id": "5298f6db",
   "metadata": {},
   "outputs": [],
   "source": [
    "resumo_regiao.columns = ['{},{}'.format(x[0], x[1]) for x in resumo_regiao.columns]\n",
    "\n",
    "resumo_regiao.rename(columns={\n",
    "    resumo_regiao.columns[0] : 'sigla_Regiao'\n",
    "    ,resumo_regiao.columns[1] : 'menor_valor_PIB'\n",
    "    ,resumo_regiao.columns[2] : 'maior_valor_PIB'\n",
    "}, inplace=True)"
   ]
  },
  {
   "cell_type": "code",
   "execution_count": 9,
   "id": "eec4746d",
   "metadata": {},
   "outputs": [
    {
     "data": {
      "text/html": [
       "<div>\n",
       "<style scoped>\n",
       "    .dataframe tbody tr th:only-of-type {\n",
       "        vertical-align: middle;\n",
       "    }\n",
       "\n",
       "    .dataframe tbody tr th {\n",
       "        vertical-align: top;\n",
       "    }\n",
       "\n",
       "    .dataframe thead th {\n",
       "        text-align: right;\n",
       "    }\n",
       "</style>\n",
       "<table border=\"1\" class=\"dataframe\">\n",
       "  <thead>\n",
       "    <tr style=\"text-align: right;\">\n",
       "      <th></th>\n",
       "      <th>sigla_Regiao</th>\n",
       "      <th>menor_valor_PIB</th>\n",
       "      <th>maior_valor_PIB</th>\n",
       "    </tr>\n",
       "  </thead>\n",
       "  <tbody>\n",
       "    <tr>\n",
       "      <th>0</th>\n",
       "      <td>CO</td>\n",
       "      <td>106969141700</td>\n",
       "      <td>254817204692</td>\n",
       "    </tr>\n",
       "    <tr>\n",
       "      <th>1</th>\n",
       "      <td>N</td>\n",
       "      <td>13369987723</td>\n",
       "      <td>161349602041</td>\n",
       "    </tr>\n",
       "    <tr>\n",
       "      <th>2</th>\n",
       "      <td>NE</td>\n",
       "      <td>42017981276</td>\n",
       "      <td>286239541115</td>\n",
       "    </tr>\n",
       "    <tr>\n",
       "      <th>3</th>\n",
       "      <td>S</td>\n",
       "      <td>298227090037</td>\n",
       "      <td>457293957585</td>\n",
       "    </tr>\n",
       "    <tr>\n",
       "      <th>4</th>\n",
       "      <td>SE</td>\n",
       "      <td>137020054877</td>\n",
       "      <td>2210561949477</td>\n",
       "    </tr>\n",
       "  </tbody>\n",
       "</table>\n",
       "</div>"
      ],
      "text/plain": [
       "  sigla_Regiao  menor_valor_PIB  maior_valor_PIB\n",
       "0           CO     106969141700     254817204692\n",
       "1            N      13369987723     161349602041\n",
       "2           NE      42017981276     286239541115\n",
       "3            S     298227090037     457293957585\n",
       "4           SE     137020054877    2210561949477"
      ]
     },
     "execution_count": 9,
     "metadata": {},
     "output_type": "execute_result"
    }
   ],
   "source": [
    "resumo_regiao.head()"
   ]
  },
  {
   "cell_type": "code",
   "execution_count": null,
   "id": "ef5f9408",
   "metadata": {},
   "outputs": [],
   "source": []
  },
  {
   "cell_type": "code",
   "execution_count": null,
   "id": "f256ec7f",
   "metadata": {},
   "outputs": [],
   "source": []
  }
 ],
 "metadata": {
  "kernelspec": {
   "display_name": "Python 3",
   "language": "python",
   "name": "python3"
  },
  "language_info": {
   "codemirror_mode": {
    "name": "ipython",
    "version": 3
   },
   "file_extension": ".py",
   "mimetype": "text/x-python",
   "name": "python",
   "nbconvert_exporter": "python",
   "pygments_lexer": "ipython3",
   "version": "3.7.3"
  }
 },
 "nbformat": 4,
 "nbformat_minor": 5
}
